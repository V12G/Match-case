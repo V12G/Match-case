{
 "cells": [
  {
   "cell_type": "code",
   "execution_count": 1,
   "id": "785d18d8",
   "metadata": {},
   "outputs": [
    {
     "name": "stdout",
     "output_type": "stream",
     "text": [
      "Enter a number12\n",
      "Number is positive: 12\n"
     ]
    }
   ],
   "source": [
    "# Write a python script to check whether a given number is positive or non-positive.\n",
    "n=int(input(\"Enter a number\"))\n",
    "if n>0:\n",
    "    print(\"Number is positive:\",n)\n",
    "else:\n",
    "    print(\"Number is non positive:\",n)"
   ]
  },
  {
   "cell_type": "code",
   "execution_count": 5,
   "id": "2b14856b",
   "metadata": {},
   "outputs": [
    {
     "name": "stdout",
     "output_type": "stream",
     "text": [
      "Enter a number20\n",
      "Number is divisble by 5: 20\n"
     ]
    }
   ],
   "source": [
    "# Write a python script to check whether a given number is divisible by 5 or not.\n",
    "n=int(input(\"Enter a number\"))\n",
    "if n%5==0:\n",
    "    print(\"Number is divisble by 5:\",n)\n",
    "else:\n",
    "    print(\"Number is not divisble by 5:\",n)"
   ]
  },
  {
   "cell_type": "code",
   "execution_count": 6,
   "id": "7aac647c",
   "metadata": {},
   "outputs": [
    {
     "name": "stdout",
     "output_type": "stream",
     "text": [
      "Enter a number23\n",
      "Odd number\n"
     ]
    }
   ],
   "source": [
    "# Write a python script to check whether a given number is even or odd.\n",
    "n=int(input(\"Enter a number\"))\n",
    "if n%2==0:\n",
    "    print(\"Even number\")\n",
    "else:\n",
    "    print(\"Odd number\")"
   ]
  },
  {
   "cell_type": "code",
   "execution_count": 14,
   "id": "bfb2e878",
   "metadata": {},
   "outputs": [
    {
     "name": "stdout",
     "output_type": "stream",
     "text": [
      "Enter 1st number12\n",
      "Enter 2nd number13\n",
      "Greater number is 13\n"
     ]
    }
   ],
   "source": [
    "'''Write a python script to print greater between two numbers. Print number only once\n",
    "even if the numbers are the same.'''\n",
    "a=int(input(\"Enter 1st number\"))\n",
    "b=int(input(\"Enter 2nd number\"))\n",
    "if a>b:\n",
    "    print(\"Greater number is:\",a)\n",
    "else:\n",
    "    print(\"Greater number is\",b)"
   ]
  },
  {
   "cell_type": "code",
   "execution_count": 25,
   "id": "d41fa40e",
   "metadata": {},
   "outputs": [
    {
     "name": "stdout",
     "output_type": "stream",
     "text": [
      "Enter two words:\n",
      "Vaibhav\n",
      "Giri\n",
      "Giri Vaibhav\n"
     ]
    }
   ],
   "source": [
    "# Write a python script to print two given words in dictionary order.\n",
    "print(\"Enter two words:\")\n",
    "a,b=input(),input()\n",
    "if a>b:\n",
    "    print(b,a)\n",
    "else:\n",
    "    print(a,b)"
   ]
  },
  {
   "cell_type": "code",
   "execution_count": 28,
   "id": "7f446179",
   "metadata": {},
   "outputs": [
    {
     "name": "stdout",
     "output_type": "stream",
     "text": [
      "Enter a number:1234\n",
      "More than three digit:\n"
     ]
    }
   ],
   "source": [
    "# Write a python script to check whether a given number is a three digit number or not.\n",
    "n=input(\"Enter a number:\")\n",
    "if len(n)==3:\n",
    "    print(\"Three digit number:\")\n",
    "else:\n",
    "    print(\"More than three digit:\")"
   ]
  },
  {
   "cell_type": "code",
   "execution_count": 42,
   "id": "e729d630",
   "metadata": {},
   "outputs": [
    {
     "name": "stdout",
     "output_type": "stream",
     "text": [
      "Enter a number:0\n",
      "Negative\n",
      "Zero\n"
     ]
    }
   ],
   "source": [
    "# Write a python script to check whether a given number is positive, negative or zero.\n",
    "a=eval(input(\"Enter a number:\"))\n",
    "if a>0:\n",
    "        print(\"Positive\")\n",
    "else:\n",
    "        print(\"Negative\")\n",
    "if a==0:\n",
    "    print(\"Zero\")"
   ]
  },
  {
   "cell_type": "code",
   "execution_count": 43,
   "id": "3712fc5a",
   "metadata": {},
   "outputs": [
    {
     "name": "stdout",
     "output_type": "stream",
     "text": [
      "Enter three numbers:\n",
      "12\n",
      "1\n",
      "23\n",
      "Roots are imaginary\n"
     ]
    }
   ],
   "source": [
    "'''Write a python script to check whether a given quadratic equation has two real &\n",
    "distinct roots, real & equal roots or imaginary roots'''\n",
    "print(\"Enter three numbers:\")\n",
    "a,b,c=int(input()),int(input()),int(input())\n",
    "d=b**2-4*a*c\n",
    "if d==0:\n",
    "    print(\"Roots are real and equal\")\n",
    "elif d>0:\n",
    "    print(\"Roots are real and distinct\")\n",
    "else:\n",
    "    print(\"Roots are imaginary\")"
   ]
  },
  {
   "cell_type": "code",
   "execution_count": 47,
   "id": "cf3b695a",
   "metadata": {},
   "outputs": [
    {
     "name": "stdout",
     "output_type": "stream",
     "text": [
      "Enter year:2022\n",
      "No leap year 2022\n"
     ]
    }
   ],
   "source": [
    "# Write a python script to check whether a given year is a leap year or not.\n",
    "year=int(input(\"Enter year:\"))\n",
    "if (year%4==0 and year%100!=0) or (year%400==0):\n",
    "    print(\"Leap year\",year)\n",
    "else:\n",
    "    print(\"No leap year\",year)"
   ]
  },
  {
   "cell_type": "code",
   "execution_count": 52,
   "id": "28c64030",
   "metadata": {},
   "outputs": [
    {
     "name": "stdout",
     "output_type": "stream",
     "text": [
      "Enter a number:\n",
      "18\n",
      "15\n",
      "19\n",
      "Greater number is: 19\n"
     ]
    }
   ],
   "source": [
    "'''Write a python script to print greater among three numbers. Print number only once\n",
    "even if the numbers are the same.'''\n",
    "print(\"Enter a number:\")\n",
    "a,b,c=int(input()),int(input()),int(input())\n",
    "if a>b>c:\n",
    "    print(\"Greater number is:\",a)\n",
    "elif a>c>b:\n",
    "    print(\"Greater number is:\",a)\n",
    "elif b>a>c:\n",
    "    print(\"Greater number is:\",b)\n",
    "elif b>c>a:\n",
    "    print(\"Greater number is:\",b)\n",
    "elif c>b>a:\n",
    "    print(\"Greater number is:\",c)\n",
    "else:\n",
    "    print(\"Greater number is:\",c)"
   ]
  },
  {
   "cell_type": "code",
   "execution_count": 68,
   "id": "ba9e0b77",
   "metadata": {},
   "outputs": [
    {
     "name": "stdout",
     "output_type": "stream",
     "text": [
      "Enter the month value in numeric format:2\n",
      "Number of days in month is 28\n"
     ]
    }
   ],
   "source": [
    "'''Write a python script to take the month value in numeric format and display the\n",
    "number of days in it.'''\n",
    "n=int(input(\"Enter the month value in numeric format:\"))\n",
    "if n in [1,3,5,7,8,10,12]:\n",
    "    print(\"Number of days in month is 31\")\n",
    "elif n in [4,6,9]:\n",
    "    print(\"Number of days in month is 30\")\n",
    "elif n==2:\n",
    "    print(\"Number of days in month is 28\")\n",
    "else:\n",
    "    print(\"Enter the month value within range of 1 to 12:\")\n"
   ]
  },
  {
   "cell_type": "code",
   "execution_count": 69,
   "id": "63027471",
   "metadata": {},
   "outputs": [
    {
     "name": "stdout",
     "output_type": "stream",
     "text": [
      "Enter a complex number3+4j\n"
     ]
    },
    {
     "ename": "TypeError",
     "evalue": "cannot unpack non-iterable complex object",
     "output_type": "error",
     "traceback": [
      "\u001b[1;31m---------------------------------------------------------------------------\u001b[0m",
      "\u001b[1;31mTypeError\u001b[0m                                 Traceback (most recent call last)",
      "\u001b[1;32m~\\AppData\\Local\\Temp/ipykernel_2736/3475411862.py\u001b[0m in \u001b[0;36m<module>\u001b[1;34m\u001b[0m\n\u001b[0;32m      2\u001b[0m greater number between real part and imaginary part'''\n\u001b[0;32m      3\u001b[0m \u001b[0ma\u001b[0m\u001b[1;33m=\u001b[0m\u001b[0mcomplex\u001b[0m\u001b[1;33m(\u001b[0m\u001b[0minput\u001b[0m\u001b[1;33m(\u001b[0m\u001b[1;34m\"Enter a complex number\"\u001b[0m\u001b[1;33m)\u001b[0m\u001b[1;33m)\u001b[0m\u001b[1;33m\u001b[0m\u001b[1;33m\u001b[0m\u001b[0m\n\u001b[1;32m----> 4\u001b[1;33m \u001b[0mreal\u001b[0m\u001b[1;33m,\u001b[0m\u001b[0mimaginary\u001b[0m\u001b[1;33m=\u001b[0m\u001b[0ma\u001b[0m\u001b[1;33m\u001b[0m\u001b[1;33m\u001b[0m\u001b[0m\n\u001b[0m\u001b[0;32m      5\u001b[0m \u001b[0mprint\u001b[0m\u001b[1;33m(\u001b[0m\u001b[1;34m\"greater number is\"\u001b[0m\u001b[1;33m,\u001b[0m\u001b[0mreal\u001b[0m \u001b[1;32mif\u001b[0m \u001b[0mreal\u001b[0m\u001b[1;33m>\u001b[0m\u001b[0mimaginary\u001b[0m \u001b[1;32melse\u001b[0m \u001b[0mimaginary\u001b[0m\u001b[1;33m,\u001b[0m\u001b[1;34m\"greater number is\"\u001b[0m\u001b[1;33m)\u001b[0m\u001b[1;33m\u001b[0m\u001b[1;33m\u001b[0m\u001b[0m\n",
      "\u001b[1;31mTypeError\u001b[0m: cannot unpack non-iterable complex object"
     ]
    }
   ],
   "source": [
    "'''Write a python script to accept one complex number from the user and display the\n",
    "greater number between real part and imaginary part'''\n",
    "a=complex(input(\"Enter a complex number\"))\n",
    "real,imaginary=a\n",
    "print(\"greater number is\",real if real>imaginary else imaginary,\"greater number is\")"
   ]
  },
  {
   "cell_type": "code",
   "execution_count": null,
   "id": "c385d550",
   "metadata": {},
   "outputs": [],
   "source": []
  }
 ],
 "metadata": {
  "kernelspec": {
   "display_name": "Python 3 (ipykernel)",
   "language": "python",
   "name": "python3"
  },
  "language_info": {
   "codemirror_mode": {
    "name": "ipython",
    "version": 3
   },
   "file_extension": ".py",
   "mimetype": "text/x-python",
   "name": "python",
   "nbconvert_exporter": "python",
   "pygments_lexer": "ipython3",
   "version": "3.9.7"
  }
 },
 "nbformat": 4,
 "nbformat_minor": 5
}
